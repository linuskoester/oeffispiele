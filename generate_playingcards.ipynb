{
 "cells": [
  {
   "cell_type": "markdown",
   "metadata": {},
   "source": [
    "# Playingcard Generator"
   ]
  },
  {
   "cell_type": "markdown",
   "metadata": {},
   "source": [
    "## Imports"
   ]
  },
  {
   "cell_type": "code",
   "execution_count": null,
   "metadata": {},
   "outputs": [],
   "source": [
    "import os\n",
    "import logging\n",
    "\n",
    "import prettymaps\n",
    "\n",
    "import pandas as pd\n",
    "from svglib.svglib import svg2rlg\n",
    "\n",
    "from pypdf import PdfReader, PdfWriter\n",
    "from pdfrw import PdfReader as PageReader, PageMerge\n",
    "from pdfrw.buildxobj import pagexobj\n",
    "from pdfrw.toreportlab import makerl\n",
    "\n",
    "from reportlab.pdfgen import canvas\n",
    "from reportlab.graphics import renderPDF\n",
    "from reportlab.lib.colors import HexColor"
   ]
  },
  {
   "cell_type": "markdown",
   "metadata": {},
   "source": [
    "## Configuration"
   ]
  },
  {
   "cell_type": "code",
   "execution_count": null,
   "metadata": {},
   "outputs": [],
   "source": [
    "# Dimension of playing card\n",
    "CARD_WIDTH, CARD_HEIGHT = 500, 683\n",
    "\n",
    "# Radius parameter for map generation\n",
    "MAP_RADIUS = 400\n",
    "\n",
    "# Output directory\n",
    "OUTPUT_DIR = \"cards_berlin\"\n",
    "\n",
    "# Temporary directory and filenames\n",
    "TMP_DIR = \"tmp\"\n",
    "MAP_FILE = f\"{TMP_DIR}/map.pdf\"\n",
    "CROP_FILE = f\"{TMP_DIR}/cropped.pdf\"\n",
    "\n",
    "# Assets\n",
    "ASSETS_DIR = \"assets\"\n",
    "LOCATIONS_FILE = f\"{ASSETS_DIR}/locations_berlin.csv\"\n",
    "MASK_FILE = f\"{ASSETS_DIR}/mask.svg\"\n",
    "\n",
    "# Text color & size\n",
    "PRIMARY_TEXT_COLOR = 0x2F3737\n",
    "PRIMARY_FONT_TYPE = \"Times-Bold\"\n",
    "SECONDARY_TEXT_COLOR = 0x646464\n",
    "SECONDARY_FONT_TYPE = \"Times-Italic\""
   ]
  },
  {
   "cell_type": "code",
   "execution_count": null,
   "metadata": {},
   "outputs": [],
   "source": [
    "# Suppress warnings from matplotlib\n",
    "logging.getLogger('matplotlib').setLevel(logging.ERROR)"
   ]
  },
  {
   "cell_type": "markdown",
   "metadata": {},
   "source": [
    "## Helper functions"
   ]
  },
  {
   "cell_type": "code",
   "execution_count": null,
   "metadata": {},
   "outputs": [],
   "source": [
    "def get_primary_font_size(text):\n",
    "    font_sizes = {\n",
    "        (0, 15): 50,\n",
    "        (15, 19): 45,\n",
    "        (19, 23): 38,\n",
    "        (23, 28): 34,\n",
    "        (28, 32): 30,\n",
    "        (32, 36): 28,\n",
    "    }\n",
    "    for (start, end), size in font_sizes.items():\n",
    "        if start <= len(text) < end:\n",
    "            return size\n",
    "    return 25\n",
    "\n",
    "def get_secondary_font_size(text):\n",
    "    font_sizes = {\n",
    "        (0, 30): 30,\n",
    "        (30, 40): 22,\n",
    "        (40, 45): 20,\n",
    "    }\n",
    "    for (start, end), size in font_sizes.items():\n",
    "        if start <= len(text) < end:\n",
    "            return size\n",
    "    return 17"
   ]
  },
  {
   "cell_type": "code",
   "execution_count": null,
   "metadata": {},
   "outputs": [],
   "source": [
    "def crop_to_card_size():\n",
    "    reader = PdfReader(MAP_FILE)\n",
    "    pdf_writer = PdfWriter()\n",
    "\n",
    "    # Get the first page\n",
    "    page = reader.pages[0]\n",
    "\n",
    "    crop_x = (page.mediabox.right - CARD_WIDTH) / 2\n",
    "    crop_y = (page.mediabox.top - CARD_HEIGHT) / 2\n",
    "\n",
    "    lower_left_x = crop_x\n",
    "    lower_left_y = crop_y\n",
    "    upper_right_x = page.mediabox.right - crop_x\n",
    "    upper_right_y = page.mediabox.top - crop_y\n",
    "\n",
    "    cropbox = (lower_left_x, lower_left_y, upper_right_x, upper_right_y)\n",
    "\n",
    "    page.cropbox.lower_left = cropbox[0:2]\n",
    "    page.cropbox.upper_right = cropbox[2:4]\n",
    "\n",
    "    # Add the cropped page to the new PDF\n",
    "    pdf_writer.add_page(page)\n",
    "\n",
    "    # Save the cropped PDF to a file\n",
    "    with open(CROP_FILE, 'wb') as output_file:\n",
    "        pdf_writer.write(output_file)\n"
   ]
  },
  {
   "cell_type": "code",
   "execution_count": null,
   "metadata": {},
   "outputs": [],
   "source": [
    "def generate_playing_card(location, title, subtitle=None):\n",
    "    \"\"\"\n",
    "    Generate a playing card with a map, title, and subtitle.\n",
    "\n",
    "    Args:\n",
    "        location (str): Location for the map.\n",
    "        title (str): Title of the playing card.\n",
    "        subtitle (str): Subtitle of the playing card.\n",
    "\n",
    "    Returns:\n",
    "        None\n",
    "    \"\"\"\n",
    "    \n",
    "    # Generate map plot\n",
    "    plot = prettymaps.plot(location, radius=MAP_RADIUS, show=False)\n",
    "\n",
    "    # Create tmp directory, if it doesn't exist\n",
    "    if not os.path.exists(TMP_DIR):\n",
    "        os.makedirs(TMP_DIR)\n",
    "\n",
    "    # Create output directory, if it doesn't exist\n",
    "    if not os.path.exists(OUTPUT_DIR):\n",
    "        os.makedirs(OUTPUT_DIR)\n",
    "\n",
    "    # Save map plot & crop to correct size\n",
    "    plot.fig.savefig(MAP_FILE, transparent=False)\n",
    "    crop_to_card_size()\n",
    "\n",
    "    # Set filename and primary text offset\n",
    "    if subtitle:\n",
    "        filename = f\"{title}-{subtitle}\"\n",
    "        offset = 122\n",
    "    else:\n",
    "        filename = title\n",
    "        offset = 140\n",
    "\n",
    "    filename = \"\".join([c for c in filename if c.isalpha() or c.isdigit() or c == '-']).rstrip()\n",
    "\n",
    "    # Open canvas image\n",
    "    c = canvas.Canvas(f\"{OUTPUT_DIR}/{filename}.pdf\", pagesize=(CARD_WIDTH, CARD_HEIGHT))\n",
    "    \n",
    "    # Add map background\n",
    "    input_pdf = PageReader(CROP_FILE)\n",
    "    page = input_pdf.pages[0]\n",
    "    page_obj = PageMerge().add(page)[0]\n",
    "    c.doForm(makerl(c, page_obj))\n",
    "    \n",
    "    # Add overlay\n",
    "    renderPDF.draw(svg2rlg(MASK_FILE), c, 0, 0)\n",
    "\n",
    "    # Add primary text\n",
    "    c.setFont(PRIMARY_FONT_TYPE, get_primary_font_size(title))\n",
    "    c.setFillColor(HexColor(PRIMARY_TEXT_COLOR))\n",
    "    c.drawCentredString(CARD_WIDTH / 2, CARD_HEIGHT - offset, title)\n",
    "\n",
    "    # Add secondary text\n",
    "    if subtitle:\n",
    "        c.setFont(SECONDARY_FONT_TYPE, get_secondary_font_size(subtitle))\n",
    "        c.setFillColor(HexColor(SECONDARY_TEXT_COLOR))\n",
    "        c.drawCentredString(CARD_WIDTH / 2, CARD_HEIGHT - 170, subtitle)\n",
    "    \n",
    "    # Close canvas image\n",
    "    c.save()\n"
   ]
  },
  {
   "cell_type": "markdown",
   "metadata": {},
   "source": [
    "## Generate all playingcards"
   ]
  },
  {
   "cell_type": "code",
   "execution_count": null,
   "metadata": {},
   "outputs": [],
   "source": [
    "def generate_all_playing_cards():\n",
    "    \"\"\"\n",
    "    Generates playing cards for each location in the CSV file.\n",
    "    The CSV file should contain columns for 'Generated', 'OSM', 'Name', and 'Beschreibung'.\n",
    "    For each location, if 'Generated' is not True and 'OSM' is not null, a card is generated.\n",
    "    After generating the card, the 'Generated' column is updated to True in the CSV file.\n",
    "    \"\"\"\n",
    "    # Read csv file in form of list of lists\n",
    "    locations = pd.read_csv(LOCATIONS_FILE)\n",
    "\n",
    "    for index, row in locations.iterrows():\n",
    "        generated = row['Generated']\n",
    "        location = row['OSM']\n",
    "        name = row['Name']\n",
    "        description = row['Beschreibung']\n",
    "\n",
    "        if pd.notnull(generated) and not bool(generated) and pd.notnull(location):\n",
    "            print(\"Generating card for\", name, \"...\")\n",
    "\n",
    "            if pd.notnull(description):\n",
    "                generate_playing_card(location, name, description)\n",
    "            else:\n",
    "                generate_playing_card(location, name, None)\n",
    "\n",
    "            locations.at[index, 'Generated'] = True\n",
    "            locations.to_csv(LOCATIONS_FILE, index=False)\n",
    "\n",
    "generate_all_playing_cards()\n"
   ]
  },
  {
   "cell_type": "markdown",
   "metadata": {},
   "source": [
    "## Reset generation progress"
   ]
  },
  {
   "cell_type": "code",
   "execution_count": null,
   "metadata": {},
   "outputs": [],
   "source": [
    "def reset_generated_locations():\n",
    "    # Read csv file\n",
    "    locations = pd.read_csv(LOCATIONS_FILE)\n",
    "\n",
    "    # Update 'Generated' column to False for all rows\n",
    "    locations['Generated'] = False\n",
    "\n",
    "    # Save updated DataFrame to csv file\n",
    "    locations.to_csv(LOCATIONS_FILE, index=False)\n",
    "\n",
    "# After all cards have been generated, the generation progress will be reset\n",
    "reset_generated_locations()"
   ]
  }
 ],
 "metadata": {
  "kernelspec": {
   "display_name": "base",
   "language": "python",
   "name": "python3"
  },
  "language_info": {
   "codemirror_mode": {
    "name": "ipython",
    "version": 3
   },
   "file_extension": ".py",
   "mimetype": "text/x-python",
   "name": "python",
   "nbconvert_exporter": "python",
   "pygments_lexer": "ipython3",
   "version": "3.9.10"
  },
  "orig_nbformat": 4
 },
 "nbformat": 4,
 "nbformat_minor": 2
}
