{
 "cells": [
  {
   "cell_type": "markdown",
   "metadata": {},
   "source": [
    "# Playing Card Generator"
   ]
  },
  {
   "cell_type": "markdown",
   "metadata": {},
   "source": [
    "## Imports"
   ]
  },
  {
   "cell_type": "code",
   "execution_count": null,
   "metadata": {},
   "outputs": [],
   "source": [
    "import os\n",
    "import logging\n",
    "\n",
    "import prettymaps\n",
    "\n",
    "import pandas as pd\n",
    "from PIL import Image\n",
    "from svglib.svglib import svg2rlg\n",
    "\n",
    "from reportlab.pdfgen import canvas\n",
    "from reportlab.graphics import renderPDF\n",
    "from reportlab.lib.colors import HexColor"
   ]
  },
  {
   "cell_type": "markdown",
   "metadata": {},
   "source": [
    "## Configuration"
   ]
  },
  {
   "cell_type": "code",
   "execution_count": null,
   "metadata": {},
   "outputs": [],
   "source": [
    "# Dimension of playing card\n",
    "CARD_WIDTH, CARD_HEIGHT = 822, 1122\n",
    "\n",
    "# Radius parameter for map generation\n",
    "MAP_RADIUS = 400\n",
    "\n",
    "# Set amount of cropping\n",
    "BORDER_CROP = 210\n",
    "\n",
    "# Output directory\n",
    "OUTPUT_DIR = \"cards_berlin\"\n",
    "\n",
    "# Temporary directory and filenames\n",
    "TMP_DIR = \"tmp\"\n",
    "MAP_FILE = f\"{TMP_DIR}/map.png\"\n",
    "CROP_FILE = f\"{TMP_DIR}/crop.png\"\n",
    "\n",
    "# Assets\n",
    "ASSETS_DIR = \"assets\"\n",
    "LOCATIONS_FILE = f\"{ASSETS_DIR}/locations_berlin.csv\"\n",
    "MASK_FILE = f\"{ASSETS_DIR}/mask.svg\"\n",
    "\n",
    "# Text color & size\n",
    "PRIMARY_TEXT_COLOR = 0x2F3737\n",
    "PRIMARY_FONT_TYPE = \"Times-Bold\"\n",
    "SECONDARY_TEXT_COLOR = 0x646464\n",
    "SECONDARY_FONT_TYPE = \"Times-Italic\""
   ]
  },
  {
   "cell_type": "code",
   "execution_count": null,
   "metadata": {},
   "outputs": [],
   "source": [
    "# Suppress warnings from matplotlib\n",
    "logging.getLogger('matplotlib').setLevel(logging.ERROR)"
   ]
  },
  {
   "cell_type": "markdown",
   "metadata": {},
   "source": [
    "## Helper functions"
   ]
  },
  {
   "cell_type": "code",
   "execution_count": null,
   "metadata": {},
   "outputs": [],
   "source": [
    "def get_primary_font_size(text):\n",
    "    font_sizes = {\n",
    "        (0, 15): 80,\n",
    "        (15, 19): 70,\n",
    "        (19, 25): 60,\n",
    "        (25, 30): 50,\n",
    "        (30, 35): 45\n",
    "    }\n",
    "    for (start, end), size in font_sizes.items():\n",
    "        if start <= len(text) < end:\n",
    "            return size\n",
    "    return 40\n",
    "\n",
    "def get_secondary_font_size(text):\n",
    "    font_sizes = {\n",
    "        (0, 30): 50,\n",
    "        (30, 40): 42,\n",
    "        (40, 45): 35,\n",
    "    }\n",
    "    for (start, end), size in font_sizes.items():\n",
    "        if start <= len(text) < end:\n",
    "            return size\n",
    "    return 32"
   ]
  },
  {
   "cell_type": "code",
   "execution_count": null,
   "metadata": {},
   "outputs": [],
   "source": [
    "def generate_playing_card(location, title, subtitle=None):\n",
    "    \"\"\"\n",
    "    Generate a playing card with a map, title, and subtitle.\n",
    "\n",
    "    Args:\n",
    "        location (str): Location for the map.\n",
    "        title (str): Title of the playing card.\n",
    "        subtitle (str): Subtitle of the playing card.\n",
    "\n",
    "    Returns:\n",
    "        None\n",
    "    \"\"\"\n",
    "    \n",
    "    # Generate map plot\n",
    "    plot = prettymaps.plot(location, radius=MAP_RADIUS, show=False)\n",
    "\n",
    "    # Create tmp directory, if it doesn't exist\n",
    "    if not os.path.exists(TMP_DIR):\n",
    "        os.makedirs(TMP_DIR)\n",
    "\n",
    "    # Create output directory, if it doesn't exist\n",
    "    if not os.path.exists(OUTPUT_DIR):\n",
    "        os.makedirs(OUTPUT_DIR)\n",
    "\n",
    "    # Save map plot\n",
    "    plot.fig.savefig(MAP_FILE, transparent=False, dpi=200)\n",
    "\n",
    "    # Crop image border\n",
    "    im = Image.open(MAP_FILE)\n",
    "    im = im.crop((BORDER_CROP, BORDER_CROP, im.width - BORDER_CROP, im.height - BORDER_CROP))\n",
    "\n",
    "    # Crop to fit card size\n",
    "    map_scale = CARD_HEIGHT / im.height\n",
    "    margin_x = (im.width * map_scale - CARD_WIDTH) / (2 * map_scale)\n",
    "\n",
    "    im = im.crop((margin_x, 0, im.width - margin_x, im.height))\n",
    "    im.save(CROP_FILE)\n",
    "\n",
    "    # Set filename and primary text offset\n",
    "    if subtitle:\n",
    "        filename = f\"{title}-{subtitle}\"\n",
    "        offset = 200\n",
    "    else:\n",
    "        filename = title\n",
    "        offset = 230\n",
    "\n",
    "    filename = \"\".join([c for c in filename if c.isalpha() or c.isdigit() or c == '-']).rstrip()\n",
    "\n",
    "    # Open canvas image\n",
    "    c = canvas.Canvas(f\"{OUTPUT_DIR}/{filename}.pdf\", pagesize=(CARD_WIDTH, CARD_HEIGHT))\n",
    "    \n",
    "    # Add map background\n",
    "    c.drawImage(CROP_FILE, 0, 0, CARD_WIDTH, CARD_HEIGHT)\n",
    "\n",
    "    # Add overlay\n",
    "    renderPDF.draw(svg2rlg(MASK_FILE), c, 0, 0)\n",
    "\n",
    "    # Add primary text\n",
    "    c.setFont(PRIMARY_FONT_TYPE, get_primary_font_size(title))\n",
    "    c.setFillColor(HexColor(PRIMARY_TEXT_COLOR))\n",
    "    c.drawCentredString(CARD_WIDTH / 2, CARD_HEIGHT - offset, title)\n",
    "\n",
    "    # Add secondary text\n",
    "    if subtitle:\n",
    "        c.setFont(SECONDARY_FONT_TYPE, get_secondary_font_size(subtitle))\n",
    "        c.setFillColor(HexColor(SECONDARY_TEXT_COLOR))\n",
    "        c.drawCentredString(CARD_WIDTH / 2, CARD_HEIGHT - 270, subtitle)\n",
    "    \n",
    "    # Close canvas image\n",
    "    c.save()\n"
   ]
  },
  {
   "cell_type": "markdown",
   "metadata": {},
   "source": [
    "## Generate all playingcards"
   ]
  },
  {
   "cell_type": "code",
   "execution_count": null,
   "metadata": {},
   "outputs": [],
   "source": [
    "def generate_all_playing_cards():\n",
    "    \"\"\"\n",
    "    Generates playing cards for each location in the CSV file.\n",
    "    The CSV file should contain columns for 'Generated', 'OSM', 'Name', and 'Beschreibung'.\n",
    "    For each location, if 'Generated' is not True and 'OSM' is not null, a card is generated.\n",
    "    After generating the card, the 'Generated' column is updated to True in the CSV file.\n",
    "    \"\"\"\n",
    "    # Read csv file in form of list of lists\n",
    "    locations = pd.read_csv(LOCATIONS_FILE)\n",
    "\n",
    "    for index, row in locations.iterrows():\n",
    "        generated = row['Generated']\n",
    "        location = row['OSM']\n",
    "        name = row['Name']\n",
    "        description = row['Beschreibung']\n",
    "\n",
    "        if pd.notnull(generated) and not bool(generated) and pd.notnull(location):\n",
    "            print(\"Generating card for\", name, \"...\")\n",
    "\n",
    "            if pd.notnull(description):\n",
    "                generate_playing_card(location, name, description)\n",
    "            else:\n",
    "                generate_playing_card(location, name, None)\n",
    "\n",
    "            locations.at[index, 'Generated'] = True\n",
    "            locations.to_csv(LOCATIONS_FILE, index=False)\n",
    "\n",
    "generate_all_playing_cards()\n"
   ]
  },
  {
   "cell_type": "markdown",
   "metadata": {},
   "source": [
    "## Reset generation progress"
   ]
  },
  {
   "cell_type": "code",
   "execution_count": null,
   "metadata": {},
   "outputs": [],
   "source": [
    "def reset_generated_locations():\n",
    "    # Read csv file\n",
    "    locations = pd.read_csv(LOCATIONS_FILE)\n",
    "\n",
    "    # Update 'Generated' column to False for all rows\n",
    "    locations['Generated'] = False\n",
    "\n",
    "    # Save updated DataFrame to csv file\n",
    "    locations.to_csv(LOCATIONS_FILE, index=False)\n",
    "\n",
    "# Uncomment and execute if you want to reset, which cards have been generated\n",
    "# reset_generated_locations()"
   ]
  }
 ],
 "metadata": {
  "kernelspec": {
   "display_name": "base",
   "language": "python",
   "name": "python3"
  },
  "language_info": {
   "codemirror_mode": {
    "name": "ipython",
    "version": 3
   },
   "file_extension": ".py",
   "mimetype": "text/x-python",
   "name": "python",
   "nbconvert_exporter": "python",
   "pygments_lexer": "ipython3",
   "version": "3.9.10"
  },
  "orig_nbformat": 4
 },
 "nbformat": 4,
 "nbformat_minor": 2
}
